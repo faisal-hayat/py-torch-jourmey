{
 "cells": [
  {
   "cell_type": "markdown",
   "metadata": {},
   "source": [
    "# Linear Regression"
   ]
  },
  {
   "cell_type": "code",
   "execution_count": 1,
   "metadata": {},
   "outputs": [
    {
     "name": "stdout",
     "output_type": "stream",
     "text": [
      "numpy version is : 1.21.5\n",
      "pandas version is : 1.4.2\n"
     ]
    }
   ],
   "source": [
    "# import libraries\n",
    "import os\n",
    "import sys\n",
    "import tqdm\n",
    "import torch\n",
    "import numpy as np\n",
    "import pandas as pd\n",
    "import torch.nn as nn\n",
    "import matplotlib.pyplot as plt\n",
    "\n",
    "print(f'tqdm version is  :{tqdm.__version__}')\n",
    "print(f'torch version is  :{torch.__version__}')\n",
    "print(f'numpy version is : {np.__version__}')\n",
    "print(f'pandas version is : {pd.__version__}')"
   ]
  },
  {
   "cell_type": "code",
   "execution_count": 25,
   "metadata": {},
   "outputs": [
    {
     "name": "stdout",
     "output_type": "stream",
     "text": [
      "x shape is : (15, 1), y shape is : (15, 1)\n"
     ]
    },
    {
     "data": {
      "image/png": "[encoded data removed]",
      "text/plain": [
       "<Figure size 432x288 with 1 Axes>"
      ]
     },
     "metadata": {
      "needs_background": "light"
     },
     "output_type": "display_data"
    }
   ],
   "source": [
    "# Define dataset \n",
    "x_train = np.array([[3.3], [4.4], [5.5], [6.71], [6.93], [4.168], \n",
    "                    [9.779], [6.182], [7.59], [2.167], [7.042], \n",
    "                    [10.791], [5.313], [7.997], [3.1]], dtype=np.float32)\n",
    "\n",
    "y_train = np.array([[1.7], [2.76], [2.09], [3.19], [1.694], [1.573], \n",
    "                    [3.366], [2.596], [2.53], [1.221], [2.827], \n",
    "                    [3.465], [1.65], [2.904], [1.3]], dtype=np.float32)\n",
    "print(f'x shape is : {x_train.shape}, y shape is : {y_train.shape}')\n",
    "# Let's plot the data \n",
    "plt.plot(x_train)\n",
    "plt.plot(y_train)\n",
    "plt.xlabel('X')\n",
    "plt.ylabel('Y')\n",
    "plt.legend(['X-Train', 'Y-train'])\n",
    "plt.title('Display Data')\n",
    "plt.grid()\n",
    "plt.show()"
   ]
  },
  {
   "cell_type": "code",
   "execution_count": 9,
   "metadata": {},
   "outputs": [
    {
     "name": "stdout",
     "output_type": "stream",
     "text": [
      "model summary is : Linear(in_features=1, out_features=1, bias=True)\n"
     ]
    }
   ],
   "source": [
    "# Let's define the linear model \n",
    "input_size = 1\n",
    "output_size = 1\n",
    "epochs = 60     \n",
    "learning_rate = 0.01\n",
    "model = nn.Linear(in_features=input_size, \n",
    "                  out_features=output_size)\n",
    "# We need a loss function and optimizer\n",
    "loss = nn.MSELoss()\n",
    "optimzer = torch.optim.SGD(model.parameters(), lr=learning_rate)\n",
    "print(f'model summary is : {model}')"
   ]
  },
  {
   "cell_type": "code",
   "execution_count": 29,
   "metadata": {},
   "outputs": [
    {
     "name": "stderr",
     "output_type": "stream",
     "text": [
      "100%|██████████| 60/60 [00:00<00:00, 1396.19it/s]"
     ]
    },
    {
     "name": "stdout",
     "output_type": "stream",
     "text": [
      "loss is : 0.1728709638118744\n",
      "loss is : 0.17285065352916718\n",
      "loss is : 0.17283043265342712\n",
      "loss is : 0.1728103756904602\n",
      "loss is : 0.17279043793678284\n",
      "loss is : 0.17277051508426666\n",
      "loss is : 0.17275077104568481\n",
      "loss is : 0.17273108661174774\n",
      "loss is : 0.17271150648593903\n",
      "loss is : 0.17269203066825867\n",
      "loss is : 0.17267268896102905\n",
      "loss is : 0.17265339195728302\n",
      "loss is : 0.17263419926166534\n",
      "loss is : 0.1726151406764984\n",
      "loss is : 0.17259615659713745\n",
      "loss is : 0.17257723212242126\n",
      "loss is : 0.1725585162639618\n",
      "loss is : 0.17253978550434113\n",
      "loss is : 0.1725212186574936\n",
      "loss is : 0.17250271141529083\n",
      "loss is : 0.17248430848121643\n",
      "loss is : 0.1724659651517868\n",
      "loss is : 0.17244775593280792\n",
      "loss is : 0.1724296659231186\n",
      "loss is : 0.17241165041923523\n",
      "loss is : 0.17239370942115784\n",
      "loss is : 0.1723758727312088\n",
      "loss is : 0.17235809564590454\n",
      "loss is : 0.17234043776988983\n",
      "loss is : 0.1723228394985199\n",
      "loss is : 0.1723053902387619\n",
      "loss is : 0.1722879707813263\n",
      "loss is : 0.17227071523666382\n",
      "loss is : 0.17225345969200134\n",
      "loss is : 0.172236368060112\n",
      "loss is : 0.17221930623054504\n",
      "loss is : 0.17220239341259003\n",
      "loss is : 0.1721855103969574\n",
      "loss is : 0.17216873168945312\n",
      "loss is : 0.1721520572900772\n",
      "loss is : 0.17213542759418488\n",
      "loss is : 0.1721189320087433\n",
      "loss is : 0.17210246622562408\n",
      "loss is : 0.17208610475063324\n",
      "loss is : 0.17206987738609314\n",
      "loss is : 0.17205366492271423\n",
      "loss is : 0.17203758656978607\n",
      "loss is : 0.1720215529203415\n",
      "loss is : 0.17200560867786407\n",
      "loss is : 0.1719898134469986\n",
      "loss is : 0.17197398841381073\n",
      "loss is : 0.1719583123922348\n",
      "loss is : 0.17194271087646484\n",
      "loss is : 0.17192718386650085\n",
      "loss is : 0.17191171646118164\n",
      "loss is : 0.17189636826515198\n",
      "loss is : 0.1718810647726059\n",
      "loss is : 0.1718658059835434\n",
      "loss is : 0.17185069620609283\n",
      "loss is : 0.17183566093444824\n"
     ]
    },
    {
     "name": "stderr",
     "output_type": "stream",
     "text": [
      "\n"
     ]
    }
   ],
   "source": [
    "# Let's define the training loop\n",
    "for epoch in tqdm.tqdm(range(epochs)):\n",
    "    # print(f'epoch is : {epoch}')\n",
    "    inputs = torch.from_numpy(x_train)\n",
    "    targets = torch.from_numpy(y_train)\n",
    "\n",
    "    # Let's define the forward pass\n",
    "    outputs = model(inputs)\n",
    "    l = loss(outputs, targets)\n",
    "    \n",
    "    # Now let's define the backpropagation and optimization \n",
    "    optimzer.zero_grad()\n",
    "    l.backward()\n",
    "    optimzer.step()\n",
    "    print(f'loss is : {l.item()}')\n",
    "    "
   ]
  },
  {
   "cell_type": "code",
   "execution_count": 26,
   "metadata": {},
   "outputs": [
    {
     "data": {
      "image/png": "[encoded data removed]",
      "text/plain": [
       "<Figure size 432x288 with 1 Axes>"
      ]
     },
     "metadata": {
      "needs_background": "light"
     },
     "output_type": "display_data"
    }
   ],
   "source": [
    "# Plot the graph\n",
    "# When we are making predictions, we need to detach gradient from the model \n",
    "predicted = model(torch.from_numpy(x_train)).detach().numpy()\n",
    "plt.plot(x_train, y_train, 'ro', label='Original data')\n",
    "plt.plot(x_train, predicted, label='Fitted line')\n",
    "plt.legend()\n",
    "plt.show()"
   ]
  },
  {
   "cell_type": "code",
   "execution_count": 27,
   "metadata": {},
   "outputs": [
    {
     "name": "stdout",
     "output_type": "stream",
     "text": [
      "torch.Size([128, 30])\n"
     ]
    }
   ],
   "source": [
    "m = nn.Linear(20, 30)\n",
    "input = torch.randn(128, 20)\n",
    "output = m(input) # This will predict against the input \n",
    "print(output.size())"
   ]
  },
  {
   "cell_type": "code",
   "execution_count": 31,
   "metadata": {},
   "outputs": [
    {
     "name": "stdout",
     "output_type": "stream",
     "text": [
      "weight tensor([[0.2386]])\n",
      "bias tensor([0.8966])\n"
     ]
    }
   ],
   "source": [
    "for name, param in model.named_parameters():\n",
    "    if param.requires_grad:\n",
    "        print(name, param.data)"
   ]
  }
 ],
 "metadata": {
  "kernelspec": {
   "display_name": "Python 3.9.12 ('base')",
   "language": "python",
   "name": "python3"
  },
  "language_info": {
   "codemirror_mode": {
    "name": "ipython",
    "version": 3
   },
   "file_extension": ".py",
   "mimetype": "text/x-python",
   "name": "python",
   "nbconvert_exporter": "python",
   "pygments_lexer": "ipython3",
   "version": "3.9.12"
  },
  "orig_nbformat": 4,
  "vscode": {
   "interpreter": {
    "hash": "3865130ac3a4a180d9f67584570fac47f03c39ebaa170ceee2ff80d68fa62cc1"
   }
  }
 },
 "nbformat": 4,
 "nbformat_minor": 2
}
